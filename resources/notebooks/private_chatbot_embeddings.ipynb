{
  "cells": [
    {
      "cell_type": "code",
      "execution_count": 1,
      "metadata": {
        "colab": {
          "base_uri": "https://localhost:8080/"
        },
        "id": "jkCSGe-eSkwa",
        "outputId": "ea575704-d226-4da4-aa3d-f8a04422829e"
      },
      "outputs": [
        {
          "output_type": "stream",
          "name": "stdout",
          "text": [
            "Collecting langchain\n",
            "  Downloading langchain-0.0.300-py3-none-any.whl (1.7 MB)\n",
            "\u001b[2K     \u001b[90m━━━━━━━━━━━━━━━━━━━━━━━━━━━━━━━━━━━━━━━━\u001b[0m \u001b[32m1.7/1.7 MB\u001b[0m \u001b[31m26.8 MB/s\u001b[0m eta \u001b[36m0:00:00\u001b[0m\n",
            "\u001b[?25hCollecting faiss-gpu\n",
            "  Downloading faiss_gpu-1.7.2-cp310-cp310-manylinux_2_17_x86_64.manylinux2014_x86_64.whl (85.5 MB)\n",
            "\u001b[2K     \u001b[90m━━━━━━━━━━━━━━━━━━━━━━━━━━━━━━━━━━━━━━━━\u001b[0m \u001b[32m85.5/85.5 MB\u001b[0m \u001b[31m10.5 MB/s\u001b[0m eta \u001b[36m0:00:00\u001b[0m\n",
            "\u001b[?25hCollecting pdfminer-six==20221105\n",
            "  Downloading pdfminer.six-20221105-py3-none-any.whl (5.6 MB)\n",
            "\u001b[2K     \u001b[90m━━━━━━━━━━━━━━━━━━━━━━━━━━━━━━━━━━━━━━━━\u001b[0m \u001b[32m5.6/5.6 MB\u001b[0m \u001b[31m110.7 MB/s\u001b[0m eta \u001b[36m0:00:00\u001b[0m\n",
            "\u001b[?25hCollecting PyMuPDF==1.23.3\n",
            "  Downloading PyMuPDF-1.23.3-cp310-none-manylinux2014_x86_64.whl (4.3 MB)\n",
            "\u001b[2K     \u001b[90m━━━━━━━━━━━━━━━━━━━━━━━━━━━━━━━━━━━━━━━━\u001b[0m \u001b[32m4.3/4.3 MB\u001b[0m \u001b[31m104.5 MB/s\u001b[0m eta \u001b[36m0:00:00\u001b[0m\n",
            "\u001b[?25hRequirement already satisfied: charset-normalizer>=2.0.0 in /usr/local/lib/python3.10/dist-packages (from pdfminer-six==20221105) (3.2.0)\n",
            "Requirement already satisfied: cryptography>=36.0.0 in /usr/local/lib/python3.10/dist-packages (from pdfminer-six==20221105) (41.0.3)\n",
            "Collecting PyMuPDFb==1.23.3 (from PyMuPDF==1.23.3)\n",
            "  Downloading PyMuPDFb-1.23.3-py3-none-manylinux2014_x86_64.manylinux_2_17_x86_64.whl (30.6 MB)\n",
            "\u001b[2K     \u001b[90m━━━━━━━━━━━━━━━━━━━━━━━━━━━━━━━━━━━━━━━━\u001b[0m \u001b[32m30.6/30.6 MB\u001b[0m \u001b[31m57.3 MB/s\u001b[0m eta \u001b[36m0:00:00\u001b[0m\n",
            "\u001b[?25hRequirement already satisfied: PyYAML>=5.3 in /usr/local/lib/python3.10/dist-packages (from langchain) (6.0.1)\n",
            "Requirement already satisfied: SQLAlchemy<3,>=1.4 in /usr/local/lib/python3.10/dist-packages (from langchain) (2.0.20)\n",
            "Requirement already satisfied: aiohttp<4.0.0,>=3.8.3 in /usr/local/lib/python3.10/dist-packages (from langchain) (3.8.5)\n",
            "Requirement already satisfied: anyio<4.0 in /usr/local/lib/python3.10/dist-packages (from langchain) (3.7.1)\n",
            "Requirement already satisfied: async-timeout<5.0.0,>=4.0.0 in /usr/local/lib/python3.10/dist-packages (from langchain) (4.0.3)\n",
            "Collecting dataclasses-json<0.7,>=0.5.7 (from langchain)\n",
            "  Downloading dataclasses_json-0.6.0-py3-none-any.whl (27 kB)\n",
            "Collecting jsonpatch<2.0,>=1.33 (from langchain)\n",
            "  Downloading jsonpatch-1.33-py2.py3-none-any.whl (12 kB)\n",
            "Collecting langsmith<0.1.0,>=0.0.38 (from langchain)\n",
            "  Downloading langsmith-0.0.40-py3-none-any.whl (39 kB)\n",
            "Requirement already satisfied: numexpr<3.0.0,>=2.8.4 in /usr/local/lib/python3.10/dist-packages (from langchain) (2.8.5)\n",
            "Requirement already satisfied: numpy<2,>=1 in /usr/local/lib/python3.10/dist-packages (from langchain) (1.23.5)\n",
            "Requirement already satisfied: pydantic<3,>=1 in /usr/local/lib/python3.10/dist-packages (from langchain) (1.10.12)\n",
            "Requirement already satisfied: requests<3,>=2 in /usr/local/lib/python3.10/dist-packages (from langchain) (2.31.0)\n",
            "Requirement already satisfied: tenacity<9.0.0,>=8.1.0 in /usr/local/lib/python3.10/dist-packages (from langchain) (8.2.3)\n",
            "Requirement already satisfied: attrs>=17.3.0 in /usr/local/lib/python3.10/dist-packages (from aiohttp<4.0.0,>=3.8.3->langchain) (23.1.0)\n",
            "Requirement already satisfied: multidict<7.0,>=4.5 in /usr/local/lib/python3.10/dist-packages (from aiohttp<4.0.0,>=3.8.3->langchain) (6.0.4)\n",
            "Requirement already satisfied: yarl<2.0,>=1.0 in /usr/local/lib/python3.10/dist-packages (from aiohttp<4.0.0,>=3.8.3->langchain) (1.9.2)\n",
            "Requirement already satisfied: frozenlist>=1.1.1 in /usr/local/lib/python3.10/dist-packages (from aiohttp<4.0.0,>=3.8.3->langchain) (1.4.0)\n",
            "Requirement already satisfied: aiosignal>=1.1.2 in /usr/local/lib/python3.10/dist-packages (from aiohttp<4.0.0,>=3.8.3->langchain) (1.3.1)\n",
            "Requirement already satisfied: idna>=2.8 in /usr/local/lib/python3.10/dist-packages (from anyio<4.0->langchain) (3.4)\n",
            "Requirement already satisfied: sniffio>=1.1 in /usr/local/lib/python3.10/dist-packages (from anyio<4.0->langchain) (1.3.0)\n",
            "Requirement already satisfied: exceptiongroup in /usr/local/lib/python3.10/dist-packages (from anyio<4.0->langchain) (1.1.3)\n",
            "Requirement already satisfied: cffi>=1.12 in /usr/local/lib/python3.10/dist-packages (from cryptography>=36.0.0->pdfminer-six==20221105) (1.15.1)\n",
            "Collecting marshmallow<4.0.0,>=3.18.0 (from dataclasses-json<0.7,>=0.5.7->langchain)\n",
            "  Downloading marshmallow-3.20.1-py3-none-any.whl (49 kB)\n",
            "\u001b[2K     \u001b[90m━━━━━━━━━━━━━━━━━━━━━━━━━━━━━━━━━━━━━━━━\u001b[0m \u001b[32m49.4/49.4 kB\u001b[0m \u001b[31m6.2 MB/s\u001b[0m eta \u001b[36m0:00:00\u001b[0m\n",
            "\u001b[?25hCollecting typing-inspect<1,>=0.4.0 (from dataclasses-json<0.7,>=0.5.7->langchain)\n",
            "  Downloading typing_inspect-0.9.0-py3-none-any.whl (8.8 kB)\n",
            "Collecting jsonpointer>=1.9 (from jsonpatch<2.0,>=1.33->langchain)\n",
            "  Downloading jsonpointer-2.4-py2.py3-none-any.whl (7.8 kB)\n",
            "Requirement already satisfied: typing-extensions>=4.2.0 in /usr/local/lib/python3.10/dist-packages (from pydantic<3,>=1->langchain) (4.5.0)\n",
            "Requirement already satisfied: urllib3<3,>=1.21.1 in /usr/local/lib/python3.10/dist-packages (from requests<3,>=2->langchain) (2.0.4)\n",
            "Requirement already satisfied: certifi>=2017.4.17 in /usr/local/lib/python3.10/dist-packages (from requests<3,>=2->langchain) (2023.7.22)\n",
            "Requirement already satisfied: greenlet!=0.4.17 in /usr/local/lib/python3.10/dist-packages (from SQLAlchemy<3,>=1.4->langchain) (2.0.2)\n",
            "Requirement already satisfied: pycparser in /usr/local/lib/python3.10/dist-packages (from cffi>=1.12->cryptography>=36.0.0->pdfminer-six==20221105) (2.21)\n",
            "Requirement already satisfied: packaging>=17.0 in /usr/local/lib/python3.10/dist-packages (from marshmallow<4.0.0,>=3.18.0->dataclasses-json<0.7,>=0.5.7->langchain) (23.1)\n",
            "Collecting mypy-extensions>=0.3.0 (from typing-inspect<1,>=0.4.0->dataclasses-json<0.7,>=0.5.7->langchain)\n",
            "  Downloading mypy_extensions-1.0.0-py3-none-any.whl (4.7 kB)\n",
            "Installing collected packages: faiss-gpu, PyMuPDFb, mypy-extensions, marshmallow, jsonpointer, typing-inspect, PyMuPDF, langsmith, jsonpatch, pdfminer-six, dataclasses-json, langchain\n",
            "Successfully installed PyMuPDF-1.23.3 PyMuPDFb-1.23.3 dataclasses-json-0.6.0 faiss-gpu-1.7.2 jsonpatch-1.33 jsonpointer-2.4 langchain-0.0.300 langsmith-0.0.40 marshmallow-3.20.1 mypy-extensions-1.0.0 pdfminer-six-20221105 typing-inspect-0.9.0\n",
            "Collecting transformers\n",
            "  Downloading transformers-4.33.2-py3-none-any.whl (7.6 MB)\n",
            "\u001b[2K     \u001b[90m━━━━━━━━━━━━━━━━━━━━━━━━━━━━━━━━━━━━━━━━\u001b[0m \u001b[32m7.6/7.6 MB\u001b[0m \u001b[31m11.3 MB/s\u001b[0m eta \u001b[36m0:00:00\u001b[0m\n",
            "\u001b[?25hCollecting InstructorEmbedding\n",
            "  Downloading InstructorEmbedding-1.0.1-py2.py3-none-any.whl (19 kB)\n",
            "Requirement already satisfied: filelock in /usr/local/lib/python3.10/dist-packages (from transformers) (3.12.2)\n",
            "Collecting huggingface-hub<1.0,>=0.15.1 (from transformers)\n",
            "  Downloading huggingface_hub-0.17.2-py3-none-any.whl (294 kB)\n",
            "\u001b[2K     \u001b[90m━━━━━━━━━━━━━━━━━━━━━━━━━━━━━━━━━━━━━━\u001b[0m \u001b[32m294.9/294.9 kB\u001b[0m \u001b[31m32.2 MB/s\u001b[0m eta \u001b[36m0:00:00\u001b[0m\n",
            "\u001b[?25hRequirement already satisfied: numpy>=1.17 in /usr/local/lib/python3.10/dist-packages (from transformers) (1.23.5)\n",
            "Requirement already satisfied: packaging>=20.0 in /usr/local/lib/python3.10/dist-packages (from transformers) (23.1)\n",
            "Requirement already satisfied: pyyaml>=5.1 in /usr/local/lib/python3.10/dist-packages (from transformers) (6.0.1)\n",
            "Requirement already satisfied: regex!=2019.12.17 in /usr/local/lib/python3.10/dist-packages (from transformers) (2023.6.3)\n",
            "Requirement already satisfied: requests in /usr/local/lib/python3.10/dist-packages (from transformers) (2.31.0)\n",
            "Collecting tokenizers!=0.11.3,<0.14,>=0.11.1 (from transformers)\n",
            "  Downloading tokenizers-0.13.3-cp310-cp310-manylinux_2_17_x86_64.manylinux2014_x86_64.whl (7.8 MB)\n",
            "\u001b[2K     \u001b[90m━━━━━━━━━━━━━━━━━━━━━━━━━━━━━━━━━━━━━━━━\u001b[0m \u001b[32m7.8/7.8 MB\u001b[0m \u001b[31m53.2 MB/s\u001b[0m eta \u001b[36m0:00:00\u001b[0m\n",
            "\u001b[?25hCollecting safetensors>=0.3.1 (from transformers)\n",
            "  Downloading safetensors-0.3.3-cp310-cp310-manylinux_2_17_x86_64.manylinux2014_x86_64.whl (1.3 MB)\n",
            "\u001b[2K     \u001b[90m━━━━━━━━━━━━━━━━━━━━━━━━━━━━━━━━━━━━━━━━\u001b[0m \u001b[32m1.3/1.3 MB\u001b[0m \u001b[31m55.7 MB/s\u001b[0m eta \u001b[36m0:00:00\u001b[0m\n",
            "\u001b[?25hRequirement already satisfied: tqdm>=4.27 in /usr/local/lib/python3.10/dist-packages (from transformers) (4.66.1)\n",
            "Requirement already satisfied: fsspec in /usr/local/lib/python3.10/dist-packages (from huggingface-hub<1.0,>=0.15.1->transformers) (2023.6.0)\n",
            "Requirement already satisfied: typing-extensions>=3.7.4.3 in /usr/local/lib/python3.10/dist-packages (from huggingface-hub<1.0,>=0.15.1->transformers) (4.5.0)\n",
            "Requirement already satisfied: charset-normalizer<4,>=2 in /usr/local/lib/python3.10/dist-packages (from requests->transformers) (3.2.0)\n",
            "Requirement already satisfied: idna<4,>=2.5 in /usr/local/lib/python3.10/dist-packages (from requests->transformers) (3.4)\n",
            "Requirement already satisfied: urllib3<3,>=1.21.1 in /usr/local/lib/python3.10/dist-packages (from requests->transformers) (2.0.4)\n",
            "Requirement already satisfied: certifi>=2017.4.17 in /usr/local/lib/python3.10/dist-packages (from requests->transformers) (2023.7.22)\n",
            "Installing collected packages: tokenizers, safetensors, InstructorEmbedding, huggingface-hub, transformers\n",
            "Successfully installed InstructorEmbedding-1.0.1 huggingface-hub-0.17.2 safetensors-0.3.3 tokenizers-0.13.3 transformers-4.33.2\n",
            "Collecting sentence-transformers\n",
            "  Downloading sentence-transformers-2.2.2.tar.gz (85 kB)\n",
            "\u001b[2K     \u001b[90m━━━━━━━━━━━━━━━━━━━━━━━━━━━━━━━━━━━━━━━━\u001b[0m \u001b[32m86.0/86.0 kB\u001b[0m \u001b[31m2.4 MB/s\u001b[0m eta \u001b[36m0:00:00\u001b[0m\n",
            "\u001b[?25h  Preparing metadata (setup.py) ... \u001b[?25l\u001b[?25hdone\n",
            "Requirement already satisfied: transformers<5.0.0,>=4.6.0 in /usr/local/lib/python3.10/dist-packages (from sentence-transformers) (4.33.2)\n",
            "Requirement already satisfied: tqdm in /usr/local/lib/python3.10/dist-packages (from sentence-transformers) (4.66.1)\n",
            "Requirement already satisfied: torch>=1.6.0 in /usr/local/lib/python3.10/dist-packages (from sentence-transformers) (2.0.1+cu118)\n",
            "Requirement already satisfied: torchvision in /usr/local/lib/python3.10/dist-packages (from sentence-transformers) (0.15.2+cu118)\n",
            "Requirement already satisfied: numpy in /usr/local/lib/python3.10/dist-packages (from sentence-transformers) (1.23.5)\n",
            "Requirement already satisfied: scikit-learn in /usr/local/lib/python3.10/dist-packages (from sentence-transformers) (1.2.2)\n",
            "Requirement already satisfied: scipy in /usr/local/lib/python3.10/dist-packages (from sentence-transformers) (1.11.2)\n",
            "Requirement already satisfied: nltk in /usr/local/lib/python3.10/dist-packages (from sentence-transformers) (3.8.1)\n",
            "Collecting sentencepiece (from sentence-transformers)\n",
            "  Downloading sentencepiece-0.1.99-cp310-cp310-manylinux_2_17_x86_64.manylinux2014_x86_64.whl (1.3 MB)\n",
            "\u001b[2K     \u001b[90m━━━━━━━━━━━━━━━━━━━━━━━━━━━━━━━━━━━━━━━━\u001b[0m \u001b[32m1.3/1.3 MB\u001b[0m \u001b[31m9.4 MB/s\u001b[0m eta \u001b[36m0:00:00\u001b[0m\n",
            "\u001b[?25hRequirement already satisfied: huggingface-hub>=0.4.0 in /usr/local/lib/python3.10/dist-packages (from sentence-transformers) (0.17.2)\n",
            "Requirement already satisfied: filelock in /usr/local/lib/python3.10/dist-packages (from huggingface-hub>=0.4.0->sentence-transformers) (3.12.2)\n",
            "Requirement already satisfied: fsspec in /usr/local/lib/python3.10/dist-packages (from huggingface-hub>=0.4.0->sentence-transformers) (2023.6.0)\n",
            "Requirement already satisfied: requests in /usr/local/lib/python3.10/dist-packages (from huggingface-hub>=0.4.0->sentence-transformers) (2.31.0)\n",
            "Requirement already satisfied: pyyaml>=5.1 in /usr/local/lib/python3.10/dist-packages (from huggingface-hub>=0.4.0->sentence-transformers) (6.0.1)\n",
            "Requirement already satisfied: typing-extensions>=3.7.4.3 in /usr/local/lib/python3.10/dist-packages (from huggingface-hub>=0.4.0->sentence-transformers) (4.5.0)\n",
            "Requirement already satisfied: packaging>=20.9 in /usr/local/lib/python3.10/dist-packages (from huggingface-hub>=0.4.0->sentence-transformers) (23.1)\n",
            "Requirement already satisfied: sympy in /usr/local/lib/python3.10/dist-packages (from torch>=1.6.0->sentence-transformers) (1.12)\n",
            "Requirement already satisfied: networkx in /usr/local/lib/python3.10/dist-packages (from torch>=1.6.0->sentence-transformers) (3.1)\n",
            "Requirement already satisfied: jinja2 in /usr/local/lib/python3.10/dist-packages (from torch>=1.6.0->sentence-transformers) (3.1.2)\n",
            "Requirement already satisfied: triton==2.0.0 in /usr/local/lib/python3.10/dist-packages (from torch>=1.6.0->sentence-transformers) (2.0.0)\n",
            "Requirement already satisfied: cmake in /usr/local/lib/python3.10/dist-packages (from triton==2.0.0->torch>=1.6.0->sentence-transformers) (3.27.4.1)\n",
            "Requirement already satisfied: lit in /usr/local/lib/python3.10/dist-packages (from triton==2.0.0->torch>=1.6.0->sentence-transformers) (16.0.6)\n",
            "Requirement already satisfied: regex!=2019.12.17 in /usr/local/lib/python3.10/dist-packages (from transformers<5.0.0,>=4.6.0->sentence-transformers) (2023.6.3)\n",
            "Requirement already satisfied: tokenizers!=0.11.3,<0.14,>=0.11.1 in /usr/local/lib/python3.10/dist-packages (from transformers<5.0.0,>=4.6.0->sentence-transformers) (0.13.3)\n",
            "Requirement already satisfied: safetensors>=0.3.1 in /usr/local/lib/python3.10/dist-packages (from transformers<5.0.0,>=4.6.0->sentence-transformers) (0.3.3)\n",
            "Requirement already satisfied: click in /usr/local/lib/python3.10/dist-packages (from nltk->sentence-transformers) (8.1.7)\n",
            "Requirement already satisfied: joblib in /usr/local/lib/python3.10/dist-packages (from nltk->sentence-transformers) (1.3.2)\n",
            "Requirement already satisfied: threadpoolctl>=2.0.0 in /usr/local/lib/python3.10/dist-packages (from scikit-learn->sentence-transformers) (3.2.0)\n",
            "Requirement already satisfied: pillow!=8.3.*,>=5.3.0 in /usr/local/lib/python3.10/dist-packages (from torchvision->sentence-transformers) (9.4.0)\n",
            "Requirement already satisfied: MarkupSafe>=2.0 in /usr/local/lib/python3.10/dist-packages (from jinja2->torch>=1.6.0->sentence-transformers) (2.1.3)\n",
            "Requirement already satisfied: charset-normalizer<4,>=2 in /usr/local/lib/python3.10/dist-packages (from requests->huggingface-hub>=0.4.0->sentence-transformers) (3.2.0)\n",
            "Requirement already satisfied: idna<4,>=2.5 in /usr/local/lib/python3.10/dist-packages (from requests->huggingface-hub>=0.4.0->sentence-transformers) (3.4)\n",
            "Requirement already satisfied: urllib3<3,>=1.21.1 in /usr/local/lib/python3.10/dist-packages (from requests->huggingface-hub>=0.4.0->sentence-transformers) (2.0.4)\n",
            "Requirement already satisfied: certifi>=2017.4.17 in /usr/local/lib/python3.10/dist-packages (from requests->huggingface-hub>=0.4.0->sentence-transformers) (2023.7.22)\n",
            "Requirement already satisfied: mpmath>=0.19 in /usr/local/lib/python3.10/dist-packages (from sympy->torch>=1.6.0->sentence-transformers) (1.3.0)\n",
            "Building wheels for collected packages: sentence-transformers\n",
            "  Building wheel for sentence-transformers (setup.py) ... \u001b[?25l\u001b[?25hdone\n",
            "  Created wheel for sentence-transformers: filename=sentence_transformers-2.2.2-py3-none-any.whl size=125923 sha256=5c4061c8a619ada14d7298be8238460b7f44f1162bd9f1c1bed701c347d3bc91\n",
            "  Stored in directory: /root/.cache/pip/wheels/62/f2/10/1e606fd5f02395388f74e7462910fe851042f97238cbbd902f\n",
            "Successfully built sentence-transformers\n",
            "Installing collected packages: sentencepiece, sentence-transformers\n",
            "Successfully installed sentence-transformers-2.2.2 sentencepiece-0.1.99\n"
          ]
        }
      ],
      "source": [
        "!pip install langchain faiss-gpu pdfminer-six==20221105 PyMuPDF==1.23.3\n",
        "!pip install transformers InstructorEmbedding\n",
        "!pip install sentence-transformers"
      ]
    },
    {
      "cell_type": "code",
      "execution_count": 2,
      "metadata": {
        "id": "9QH4ZidlSaFq"
      },
      "outputs": [],
      "source": [
        "import logging as logger\n",
        "import os.path\n",
        "from langchain import FAISS\n",
        "from langchain.text_splitter import RecursiveCharacterTextSplitter\n",
        "# from utils.functions import read_pdf_to_string, get_pdf_paths\n",
        "# from utils.project_config import config\n",
        "from langchain.embeddings import HuggingFaceInstructEmbeddings\n"
      ]
    },
    {
      "cell_type": "code",
      "source": [
        "from google.colab import drive\n",
        "drive.mount('/content/drive')"
      ],
      "metadata": {
        "colab": {
          "base_uri": "https://localhost:8080/"
        },
        "id": "YH9i5KvPKG5J",
        "outputId": "c5efed21-ffae-4443-c22d-ba580ebe7cd3"
      },
      "execution_count": 3,
      "outputs": [
        {
          "output_type": "stream",
          "name": "stdout",
          "text": [
            "Mounted at /content/drive\n"
          ]
        }
      ]
    },
    {
      "cell_type": "code",
      "execution_count": 4,
      "metadata": {
        "colab": {
          "base_uri": "https://localhost:8080/",
          "height": 35
        },
        "id": "fleuOQ_LSiKx",
        "outputId": "d7557a7c-8104-49b2-e759-7201e8f75266"
      },
      "outputs": [
        {
          "output_type": "execute_result",
          "data": {
            "text/plain": [
              "'/content/resources/new_embeddings'"
            ],
            "application/vnd.google.colaboratory.intrinsic+json": {
              "type": "string"
            }
          },
          "metadata": {},
          "execution_count": 4
        }
      ],
      "source": [
        "\n",
        "if 'config' not in locals():\n",
        "  config = {}\n",
        "\n",
        "config['data_dir_path'] = \"/content/drive/MyDrive/genai/new_pdfs\"\n",
        "\n",
        "# Default Instructor Model\n",
        "config['EMBEDDING_MODEL_NAME'] = \"hkunlp/instructor-large\"  # Uses 1.5 GB of VRAM (High Accuracy with lower VRAM usage)\n",
        "config[\"vector_store_path\"] = \"/content/resources/new_embeddings\"\n",
        "config[\"vector_store_path\"]\n"
      ]
    },
    {
      "cell_type": "code",
      "execution_count": 5,
      "metadata": {
        "colab": {
          "base_uri": "https://localhost:8080/"
        },
        "id": "o5Dd9iMvT6-Q",
        "outputId": "ee53e005-dcff-4c28-b737-6aed841f7277"
      },
      "outputs": [
        {
          "output_type": "stream",
          "name": "stdout",
          "text": [
            "--2023-09-25 11:46:01--  https://docs.nvidia.com/nsight-systems/pdf/UserGuide.pdf\n",
            "Resolving docs.nvidia.com (docs.nvidia.com)... 23.206.188.170, 23.206.188.159\n",
            "Connecting to docs.nvidia.com (docs.nvidia.com)|23.206.188.170|:443... connected.\n",
            "HTTP request sent, awaiting response... 200 OK\n",
            "Length: 10948440 (10M) [application/pdf]\n",
            "Saving to: ‘UserGuide.pdf’\n",
            "\n",
            "UserGuide.pdf       100%[===================>]  10.44M  22.9MB/s    in 0.5s    \n",
            "\n",
            "2023-09-25 11:46:02 (22.9 MB/s) - ‘UserGuide.pdf’ saved [10948440/10948440]\n",
            "\n"
          ]
        }
      ],
      "source": [
        "# !wget https://docs.nvidia.com/nsight-systems/pdf/UserGuide.pdf"
      ]
    },
    {
      "cell_type": "code",
      "execution_count": 6,
      "metadata": {
        "id": "bKO0YQyQT8uS"
      },
      "outputs": [],
      "source": [
        "# !mv UserGuide.pdf /content/drive/MyDrive/genai/new_pdfs/Nsight_systems/"
      ]
    },
    {
      "cell_type": "code",
      "execution_count": 31,
      "metadata": {
        "id": "bpZj0yr-UXde"
      },
      "outputs": [],
      "source": [
        "import logging\n",
        "import os\n",
        "import fitz  # PyMuPDF\n",
        "\n",
        "def get_pdf_paths(dir_path):\n",
        "    paths = []\n",
        "\n",
        "    for file_path in os.listdir(dir_path):\n",
        "        if file_path.endswith(\".pdf\"):\n",
        "            doc_path = os.path.join(dir_path, file_path)\n",
        "            paths.append(doc_path)\n",
        "        else:\n",
        "            paths.extend(get_pdf_paths(f\"{dir_path}/{file_path}\"))\n",
        "    return paths\n",
        "\n",
        "\n",
        "def read_pdf_to_string(paths, pdfs_start):\n",
        "    pdf_to_str = []\n",
        "    doc_names = []\n",
        "    for doc_path in paths:\n",
        "        try:\n",
        "            doc = fitz.open(doc_path)\n",
        "            text = \"\"\n",
        "            for page_num in range(doc.page_count):\n",
        "                if page_num > pdfs_start[doc_path]:\n",
        "                    page = doc[page_num]\n",
        "                    text += page.get_text()\n",
        "            pdf_to_str.append(text)\n",
        "            doc_names.append(doc_path)\n",
        "        except:\n",
        "            print(f\"Empty PDF: {doc_path}\")\n",
        "    return (pdf_to_str, doc_names)\n"
      ]
    },
    {
      "cell_type": "code",
      "source": [
        "pdfs_start = {'/content/drive/MyDrive/genai/new_pdfs/cuda/nvJPEG.pdf': 12,\n",
        " '/content/drive/MyDrive/genai/new_pdfs/cuda/CUDA_Debugger_API.pdf': 12,\n",
        " '/content/drive/MyDrive/genai/new_pdfs/cuda/CUDA_Runtime_API.pdf': 30,\n",
        " '/content/drive/MyDrive/genai/new_pdfs/cuda/CUDA_Driver_API.pdf': 32,\n",
        " '/content/drive/MyDrive/genai/new_pdfs/cuda/CUDA_C_Best_Practices_Guide.pdf': 12,\n",
        " '/content/drive/MyDrive/genai/new_pdfs/Nsight_compute/Profiling_Nsight_compute.pdf': 4,\n",
        " '/content/drive/MyDrive/genai/new_pdfs/Nsight_compute/NsightComputeCLI.pdf': 4,\n",
        " '/content/drive/MyDrive/genai/new_pdfs/Nsight_compute/NsightCompute.pdf': 4,\n",
        " '/content/drive/MyDrive/genai/new_pdfs/Nsight_systems/Nsight_Systems_UserGuide.pdf': 8,\n",
        " '/content/drive/MyDrive/genai/new_pdfs/Video_Codec_SDK/NVIDIA_Video_Decoder.pdf': 6,\n",
        " '/content/drive/MyDrive/genai/new_pdfs/Video_Codec_SDK/License.pdf': 2,\n",
        " '/content/drive/MyDrive/genai/new_pdfs/Video_Codec_SDK/Read_Me.pdf': 2,\n",
        " '/content/drive/MyDrive/genai/new_pdfs/Video_Codec_SDK/NVENC_Application_Note.pdf': 2,\n",
        " '/content/drive/MyDrive/genai/new_pdfs/Video_Codec_SDK/NVDEC_Application_Note.pdf': 2,\n",
        " '/content/drive/MyDrive/genai/new_pdfs/Video_Codec_SDK/NVDEC_VideoDecoder_API_ProgGuide.pdf': 2,\n",
        " '/content/drive/MyDrive/genai/new_pdfs/Video_Codec_SDK/NVENC_VideoEncoder_API_ProgGuide.pdf': 4,\n",
        " '/content/drive/MyDrive/genai/new_pdfs/Video_Codec_SDK/NVENC_Preset_Migration_Guide.pdf': 2,\n",
        " '/content/drive/MyDrive/genai/new_pdfs/Video_Codec_SDK/Using_FFmpeg_with_NVIDIA_GPU_Hardware_Acceleration.pdf': 2}\n"
      ],
      "metadata": {
        "id": "Pw4vnafMStHG"
      },
      "execution_count": 32,
      "outputs": []
    },
    {
      "cell_type": "code",
      "source": [
        "print(len(pdfs_start))\n",
        "pdfs = list(pdfs_start.keys())"
      ],
      "metadata": {
        "colab": {
          "base_uri": "https://localhost:8080/"
        },
        "id": "2tTuES0EViMe",
        "outputId": "b1d4ca07-a023-4eca-92dc-c8e9c6f9298f"
      },
      "execution_count": 36,
      "outputs": [
        {
          "output_type": "stream",
          "name": "stdout",
          "text": [
            "18\n"
          ]
        }
      ]
    },
    {
      "cell_type": "code",
      "source": [
        "!rm -rf /content/resources/*"
      ],
      "metadata": {
        "id": "HZBden1VW5Nl"
      },
      "execution_count": 58,
      "outputs": []
    },
    {
      "cell_type": "code",
      "execution_count": 59,
      "metadata": {
        "colab": {
          "base_uri": "https://localhost:8080/"
        },
        "id": "tFc7SDYtSc2M",
        "outputId": "83698c0a-fb70-4ccb-9c09-efc86854b795"
      },
      "outputs": [
        {
          "output_type": "stream",
          "name": "stdout",
          "text": [
            "i = 0\n",
            "Splitting document: /content/drive/MyDrive/genai/new_pdfs/cuda/nvJPEG.pdf\n",
            "Splitting document: /content/drive/MyDrive/genai/new_pdfs/cuda/CUDA_Debugger_API.pdf\n",
            "load INSTRUCTOR_Transformer\n",
            "max_seq_length  512\n",
            "\n",
            "\n",
            "\n",
            "\n",
            " Creating embeddings folder\n",
            "Creating vector store \n",
            "Saving vector store\n",
            "i = 2\n",
            "Splitting document: /content/drive/MyDrive/genai/new_pdfs/cuda/CUDA_Runtime_API.pdf\n",
            "Splitting document: /content/drive/MyDrive/genai/new_pdfs/cuda/CUDA_Driver_API.pdf\n",
            "load INSTRUCTOR_Transformer\n",
            "max_seq_length  512\n",
            "Saving vector store\n",
            "i = 4\n",
            "Splitting document: /content/drive/MyDrive/genai/new_pdfs/cuda/CUDA_C_Best_Practices_Guide.pdf\n",
            "Splitting document: /content/drive/MyDrive/genai/new_pdfs/Nsight_compute/Profiling_Nsight_compute.pdf\n",
            "load INSTRUCTOR_Transformer\n",
            "max_seq_length  512\n",
            "Saving vector store\n",
            "i = 6\n",
            "Splitting document: /content/drive/MyDrive/genai/new_pdfs/Nsight_compute/NsightComputeCLI.pdf\n",
            "Splitting document: /content/drive/MyDrive/genai/new_pdfs/Nsight_compute/NsightCompute.pdf\n",
            "load INSTRUCTOR_Transformer\n",
            "max_seq_length  512\n",
            "Saving vector store\n",
            "i = 8\n",
            "Splitting document: /content/drive/MyDrive/genai/new_pdfs/Nsight_systems/Nsight_Systems_UserGuide.pdf\n",
            "Splitting document: /content/drive/MyDrive/genai/new_pdfs/Video_Codec_SDK/NVIDIA_Video_Decoder.pdf\n",
            "load INSTRUCTOR_Transformer\n",
            "max_seq_length  512\n",
            "Saving vector store\n",
            "i = 10\n",
            "Splitting document: /content/drive/MyDrive/genai/new_pdfs/Video_Codec_SDK/License.pdf\n",
            "Splitting document: /content/drive/MyDrive/genai/new_pdfs/Video_Codec_SDK/Read_Me.pdf\n",
            "load INSTRUCTOR_Transformer\n",
            "max_seq_length  512\n",
            "Saving vector store\n",
            "i = 12\n",
            "Splitting document: /content/drive/MyDrive/genai/new_pdfs/Video_Codec_SDK/NVENC_Application_Note.pdf\n",
            "Splitting document: /content/drive/MyDrive/genai/new_pdfs/Video_Codec_SDK/NVDEC_Application_Note.pdf\n",
            "load INSTRUCTOR_Transformer\n",
            "max_seq_length  512\n",
            "Saving vector store\n",
            "i = 14\n",
            "Splitting document: /content/drive/MyDrive/genai/new_pdfs/Video_Codec_SDK/NVDEC_VideoDecoder_API_ProgGuide.pdf\n",
            "Splitting document: /content/drive/MyDrive/genai/new_pdfs/Video_Codec_SDK/NVENC_VideoEncoder_API_ProgGuide.pdf\n",
            "load INSTRUCTOR_Transformer\n",
            "max_seq_length  512\n",
            "Saving vector store\n",
            "i = 16\n",
            "Splitting document: /content/drive/MyDrive/genai/new_pdfs/Video_Codec_SDK/NVENC_Preset_Migration_Guide.pdf\n",
            "Splitting document: /content/drive/MyDrive/genai/new_pdfs/Video_Codec_SDK/Using_FFmpeg_with_NVIDIA_GPU_Hardware_Acceleration.pdf\n",
            "load INSTRUCTOR_Transformer\n",
            "max_seq_length  512\n",
            "Saving vector store\n"
          ]
        }
      ],
      "source": [
        "\n",
        "for i in range(0, len(pdfs_start), 2):\n",
        "    print(f\"i = {i}\")\n",
        "    paths = pdfs[i:(i+2)]\n",
        "    (documents_string, document_names) = read_pdf_to_string(paths, pdfs_start)\n",
        "    logger.info(\"Doccuments scanned = \" + str(len(documents_string)))\n",
        "    # TODO plot token graph\n",
        "    # model.config.max_sequence_length\n",
        "\n",
        "    logger.info(\"======Context aware chunking======\")\n",
        "    # Llama 2 supports up to 4096 tokens\n",
        "    chunk_size = 600\n",
        "    chunk_overlap = 200\n",
        "    text_splitter = RecursiveCharacterTextSplitter(separators=[\".\",\"\\n\"], chunk_size=chunk_size, chunk_overlap=chunk_overlap)\n",
        "    # split text into chunks\n",
        "    text_content = []\n",
        "    metadata = []\n",
        "    for i in range(0, len(documents_string)):\n",
        "        print(f\"Splitting document: {document_names[i]}\")\n",
        "        splits = text_splitter.split_text(documents_string[i])\n",
        "        text_content.extend(splits)\n",
        "        metadata.extend([{\"file_name\": document_names[i]}]*len(splits))\n",
        "\n",
        "    logger.info(\"Number of chunks = \" + str(len(text_content)))\n",
        "\n",
        "    logger.info(\"======Embedding model======\")\n",
        "    embeddings = HuggingFaceInstructEmbeddings(\n",
        "        model_name=config['EMBEDDING_MODEL_NAME'],\n",
        "        model_kwargs={\"device\": \"cuda\"},\n",
        "    )\n",
        "\n",
        "    if not os.path.exists(config['vector_store_path']):\n",
        "        print(\"\\n\\n\\n\\n Creating embeddings folder\")\n",
        "        os.makedirs(config['vector_store_path'], exist_ok=True)\n",
        "        print(\"Creating vector store \")\n",
        "        vector_store = FAISS.from_texts(\n",
        "            embedding=embeddings,\n",
        "            texts=text_content,\n",
        "            metadatas=metadata\n",
        "        )\n",
        "    else:\n",
        "        vector_store = FAISS.load_local(embeddings=embeddings, folder_path=config['vector_store_path'])\n",
        "        vector_store.add_texts(text_content)\n",
        "    print(\"Saving vector store\")\n",
        "    vector_store.save_local(folder_path=config['vector_store_path'])\n"
      ]
    },
    {
      "cell_type": "code",
      "source": [
        "vector_store = FAISS.load_local(embeddings=embeddings, folder_path=config['vector_store_path'])"
      ],
      "metadata": {
        "id": "17E0_wqHflIX"
      },
      "execution_count": 60,
      "outputs": []
    },
    {
      "cell_type": "code",
      "source": [
        "config['vector_store_path']"
      ],
      "metadata": {
        "colab": {
          "base_uri": "https://localhost:8080/",
          "height": 35
        },
        "id": "W7PWRnarfwpJ",
        "outputId": "463c7174-0026-4f1e-f1c6-8f75708f63cf"
      },
      "execution_count": 61,
      "outputs": [
        {
          "output_type": "execute_result",
          "data": {
            "text/plain": [
              "'/content/resources/new_embeddings'"
            ],
            "application/vnd.google.colaboratory.intrinsic+json": {
              "type": "string"
            }
          },
          "metadata": {},
          "execution_count": 61
        }
      ]
    },
    {
      "cell_type": "code",
      "source": [
        "!rm -rf /content/drive/MyDrive/genai/new_embeddings\n",
        "!cp -r /content/resources/* /content/drive/MyDrive/genai/"
      ],
      "metadata": {
        "id": "DdeaJiYDQ5qf"
      },
      "execution_count": 62,
      "outputs": []
    },
    {
      "cell_type": "code",
      "source": [
        "! zip -r new_embeddings_all.zip /content/resources/new_embeddings"
      ],
      "metadata": {
        "colab": {
          "base_uri": "https://localhost:8080/"
        },
        "id": "jphlQf9TfWvK",
        "outputId": "3a84a1fa-ff1a-4434-f541-173c327fa852"
      },
      "execution_count": 64,
      "outputs": [
        {
          "output_type": "stream",
          "name": "stdout",
          "text": [
            "  adding: content/resources/new_embeddings/ (stored 0%)\n",
            "  adding: content/resources/new_embeddings/index.pkl (deflated 78%)\n",
            "  adding: content/resources/new_embeddings/index.faiss (deflated 8%)\n"
          ]
        }
      ]
    },
    {
      "cell_type": "code",
      "source": [
        "docs = vector_store.as_retriever(search_kwargs={'k': 10}).get_relevant_documents(\"Creates a CUDA array according to the CUDA_ARRAY3D_DESCRIPTOR structure pAllocateArray and returns a handle to the new CUDA array in *pHandle. The CUDA_ARRAY3D_DESCRIPTOR is defined as:\")\n",
        "\n",
        "for doc in docs:\n",
        "  print(\"\\n\\n\\n\\n\\n\\n\\n\")\n",
        "  print(f\"{doc.page_content}\")"
      ],
      "metadata": {
        "colab": {
          "base_uri": "https://localhost:8080/"
        },
        "id": "fjnjX9nwgZ2z",
        "outputId": "614b089d-74fc-433a-cc5e-cd3af6d0c15f"
      },
      "execution_count": 63,
      "outputs": [
        {
          "output_type": "stream",
          "name": "stdout",
          "text": [
            "\n",
            "\n",
            "\n",
            "\n",
            "\n",
            "\n",
            "\n",
            "\n",
            ".\n",
            "Parameters\n",
            "pHandle\n",
            "- Returned array\n",
            "pAllocateArray\n",
            "- Array descriptor\n",
            "Returns\n",
            "CUDA_SUCCESS, CUDA_ERROR_DEINITIALIZED, CUDA_ERROR_NOT_INITIALIZED,\n",
            "CUDA_ERROR_INVALID_CONTEXT, CUDA_ERROR_INVALID_VALUE,\n",
            "CUDA_ERROR_OUT_OF_MEMORY, CUDA_ERROR_UNKNOWN\n",
            "Description\n",
            "Creates a CUDA array according to the CUDA_ARRAY_DESCRIPTOR structure\n",
            "pAllocateArray and returns a handle to the new CUDA array in *pHandle\n",
            "\n",
            "\n",
            "\n",
            "\n",
            "\n",
            "\n",
            "\n",
            "\n",
            ".\n",
            "CUresult cuArray3DCreate (CUarray *pHandle, const\n",
            "CUDA_ARRAY3D_DESCRIPTOR *pAllocateArray)\n",
            "Creates a 3D CUDA array.\n",
            "Parameters\n",
            "pHandle\n",
            "- Returned array\n",
            "pAllocateArray\n",
            "- 3D array descriptor\n",
            "Returns\n",
            "CUDA_SUCCESS, CUDA_ERROR_DEINITIALIZED, CUDA_ERROR_NOT_INITIALIZED,\n",
            "CUDA_ERROR_INVALID_CONTEXT, CUDA_ERROR_INVALID_VALUE,\n",
            "CUDA_ERROR_OUT_OF_MEMORY, CUDA_ERROR_UNKNOWN\n",
            "Description\n",
            "Creates a CUDA array according to the CUDA_ARRAY3D_DESCRIPTOR structure\n",
            "pAllocateArray and returns a handle to the new CUDA array in *pHandle\n",
            "\n",
            "\n",
            "\n",
            "\n",
            "\n",
            "\n",
            "\n",
            "\n",
            ".\n",
            "Parameters\n",
            "pHandle\n",
            "- Returned mipmapped array\n",
            "pMipmappedArrayDesc\n",
            "- mipmapped array descriptor\n",
            "numMipmapLevels\n",
            "- Number of mipmap levels\n",
            "Returns\n",
            "CUDA_SUCCESS, CUDA_ERROR_DEINITIALIZED, CUDA_ERROR_NOT_INITIALIZED,\n",
            "CUDA_ERROR_INVALID_CONTEXT, CUDA_ERROR_INVALID_VALUE,\n",
            "CUDA_ERROR_OUT_OF_MEMORY, CUDA_ERROR_UNKNOWN\n",
            "Description\n",
            "Creates a CUDA mipmapped array according to the CUDA_ARRAY3D_DESCRIPTOR structure\n",
            "pMipmappedArrayDesc and returns a handle to the new CUDA mipmapped array in\n",
            "*pHandle. numMipmapLevels specifies the number of mipmap levels to be allocated\n",
            "\n",
            "\n",
            "\n",
            "\n",
            "\n",
            "\n",
            "\n",
            "\n",
            ".\n",
            "Parameters\n",
            "array\n",
            "- Pointer to allocated array in device memory\n",
            "desc\n",
            "- Requested channel format\n",
            "width\n",
            "- Requested array allocation width\n",
            "height\n",
            "- Requested array allocation height\n",
            "flags\n",
            "- Requested properties of allocated array\n",
            "Returns\n",
            "cudaSuccess, cudaErrorInvalidValue, cudaErrorMemoryAllocation\n",
            "Description\n",
            "Allocates a CUDA array according to the cudaChannelFormatDesc structure desc and returns\n",
            "a handle to the new CUDA array in *array\n",
            "\n",
            "\n",
            "\n",
            "\n",
            "\n",
            "\n",
            "\n",
            "\n",
            "cuMemGetAddressRange, cuMemGetInfo, cuMemHostAlloc, cuMemHostGetDevicePointer,\n",
            "cuMemsetD2D8, cuMemsetD2D16, cuMemsetD2D32, cuMemsetD8, cuMemsetD16,\n",
            "cuMemsetD32, cudaArrayGetInfo\n",
            "Modules\n",
            "CUDA Driver API\n",
            "TRM-06703-001 _vRelease Version   |   165\n",
            "CUresult cuArrayCreate (CUarray *pHandle, const\n",
            "CUDA_ARRAY_DESCRIPTOR *pAllocateArray)\n",
            "Creates a 1D or 2D CUDA array\n",
            "\n",
            "\n",
            "\n",
            "\n",
            "\n",
            "\n",
            "\n",
            "\n",
            ".\n",
            "Parameters\n",
            "handle\n",
            "- Pointer to the location where the returned handle will be stored.\n",
            "dptr\n",
            "- Pointer to a valid CUDA device allocation. Must be aligned to host page size.\n",
            "size\n",
            "- Length of the address range. Must be aligned to host page size.\n",
            "handleType\n",
            "- Type of handle requested (defines type and size of the handle output parameter)\n",
            "flags\n",
            "- Reserved, must be zero\n",
            "Returns\n",
            "CUDA_SUCCESS CUDA_ERROR_INVALID_VALUE CUDA_ERROR_NOT_SUPPORTED\n",
            "Description\n",
            "Get a handle of the specified type to an address range\n",
            "\n",
            "\n",
            "\n",
            "\n",
            "\n",
            "\n",
            "\n",
            "\n",
            ".13.  Memory Management\n",
            "This section describes the memory management functions of the low-level CUDA driver\n",
            "application programming interface.\n",
            "CUresult cuArray3DCreate (CUarray *pHandle, const\n",
            "CUDA_ARRAY3D_DESCRIPTOR *pAllocateArray)\n",
            "Creates a 3D CUDA array\n",
            "\n",
            "\n",
            "\n",
            "\n",
            "\n",
            "\n",
            "\n",
            "\n",
            ".\n",
            "Parameters\n",
            "pHandle\n",
            "- Pointer to user allocated CUipcMemHandle to return the handle in.\n",
            "dptr\n",
            "- Base pointer to previously allocated device memory\n",
            "Returns\n",
            "CUDA_SUCCESS, CUDA_ERROR_INVALID_HANDLE, CUDA_ERROR_INVALID_CONTEXT,\n",
            "CUDA_ERROR_OUT_OF_MEMORY, CUDA_ERROR_MAP_FAILED,\n",
            "CUDA_ERROR_INVALID_VALUE\n",
            "Description\n",
            "Takes a pointer to the base of an existing device memory allocation created with cuMemAlloc\n",
            "and exports it for use in another process. This is a lightweight operation and may be called\n",
            "multiple times on an allocation without adverse effects\n",
            "\n",
            "\n",
            "\n",
            "\n",
            "\n",
            "\n",
            "\n",
            "\n",
            ".\n",
            "Parameters\n",
            "handle\n",
            "Value of handle which was returned previously by cuMemCreate.\n",
            "Returns\n",
            "CUDA_SUCCESS, CUDA_ERROR_INVALID_VALUE, CUDA_ERROR_NOT_INITIALIZED,\n",
            "CUDA_ERROR_DEINITIALIZED, CUDA_ERROR_NOT_PERMITTED,\n",
            "CUDA_ERROR_NOT_SUPPORTED\n",
            "Description\n",
            "Frees the memory that was allocated on a device through cuMemCreate.\n",
            "The memory allocation will be freed when all outstanding mappings to the memory are\n",
            "unmapped and when all outstanding references to the handle (including it's shareable\n",
            "counterparts) are also released\n",
            "\n",
            "\n",
            "\n",
            "\n",
            "\n",
            "\n",
            "\n",
            "\n",
            ".\n",
            "Parameters\n",
            "handle\n",
            "- Pointer to user allocated cudaIpcMemHandle to return the handle in.\n",
            "devPtr\n",
            "- Base pointer to previously allocated device memory\n",
            "Returns\n",
            "cudaSuccess, cudaErrorMemoryAllocation, cudaErrorMapBufferObjectFailed,\n",
            "cudaErrorNotSupported, cudaErrorInvalidValue\n",
            "Modules\n",
            "CUDA Runtime API\n",
            "vRelease Version   |   49\n",
            "Description\n",
            "Takes a pointer to the base of an existing device memory allocation created with cudaMalloc\n",
            "and exports it for use in another process. This is a lightweight operation and may be called\n",
            "multiple times on an allocation without adverse effects\n"
          ]
        }
      ]
    },
    {
      "cell_type": "code",
      "source": [],
      "metadata": {
        "id": "-duShvpIh7UL"
      },
      "execution_count": null,
      "outputs": []
    }
  ],
  "metadata": {
    "accelerator": "GPU",
    "colab": {
      "provenance": []
    },
    "kernelspec": {
      "display_name": "Python 3",
      "name": "python3"
    },
    "language_info": {
      "name": "python"
    }
  },
  "nbformat": 4,
  "nbformat_minor": 0
}